{
 "cells": [
  {
   "cell_type": "markdown",
   "metadata": {
    "pycharm": {
     "name": "#%% md\n"
    }
   },
   "source": [
    "# Getting Financial Data - Pandas Datareader"
   ]
  },
  {
   "cell_type": "markdown",
   "metadata": {
    "pycharm": {
     "name": "#%% md\n"
    }
   },
   "source": [
    "### Introduction:\n",
    "\n",
    "This time you will get data from a website.\n",
    "\n",
    "\n",
    "### Step 1. Import the necessary libraries"
   ]
  },
  {
   "cell_type": "code",
   "execution_count": 1,
   "metadata": {},
   "outputs": [
    {
     "name": "stdout",
     "output_type": "stream",
     "text": [
      "Defaulting to user installation because normal site-packages is not writeable\n",
      "Collecting pandas-datareader\n",
      "  Downloading pandas_datareader-0.10.0-py3-none-any.whl.metadata (2.9 kB)\n",
      "Collecting lxml (from pandas-datareader)\n",
      "  Downloading lxml-5.2.2-cp312-cp312-win_amd64.whl.metadata (3.5 kB)\n",
      "Requirement already satisfied: pandas>=0.23 in c:\\users\\trkha\\appdata\\local\\packages\\pythonsoftwarefoundation.python.3.12_qbz5n2kfra8p0\\localcache\\local-packages\\python312\\site-packages (from pandas-datareader) (2.2.2)\n",
      "Requirement already satisfied: requests>=2.19.0 in c:\\users\\trkha\\appdata\\local\\packages\\pythonsoftwarefoundation.python.3.12_qbz5n2kfra8p0\\localcache\\local-packages\\python312\\site-packages (from pandas-datareader) (2.31.0)\n",
      "Requirement already satisfied: numpy>=1.26.0 in c:\\users\\trkha\\appdata\\local\\packages\\pythonsoftwarefoundation.python.3.12_qbz5n2kfra8p0\\localcache\\local-packages\\python312\\site-packages (from pandas>=0.23->pandas-datareader) (1.26.4)\n",
      "Requirement already satisfied: python-dateutil>=2.8.2 in c:\\users\\trkha\\appdata\\local\\packages\\pythonsoftwarefoundation.python.3.12_qbz5n2kfra8p0\\localcache\\local-packages\\python312\\site-packages (from pandas>=0.23->pandas-datareader) (2.9.0.post0)\n",
      "Requirement already satisfied: pytz>=2020.1 in c:\\users\\trkha\\appdata\\local\\packages\\pythonsoftwarefoundation.python.3.12_qbz5n2kfra8p0\\localcache\\local-packages\\python312\\site-packages (from pandas>=0.23->pandas-datareader) (2024.1)\n",
      "Requirement already satisfied: tzdata>=2022.7 in c:\\users\\trkha\\appdata\\local\\packages\\pythonsoftwarefoundation.python.3.12_qbz5n2kfra8p0\\localcache\\local-packages\\python312\\site-packages (from pandas>=0.23->pandas-datareader) (2024.1)\n",
      "Requirement already satisfied: charset-normalizer<4,>=2 in c:\\users\\trkha\\appdata\\local\\packages\\pythonsoftwarefoundation.python.3.12_qbz5n2kfra8p0\\localcache\\local-packages\\python312\\site-packages (from requests>=2.19.0->pandas-datareader) (3.3.2)\n",
      "Requirement already satisfied: idna<4,>=2.5 in c:\\users\\trkha\\appdata\\local\\packages\\pythonsoftwarefoundation.python.3.12_qbz5n2kfra8p0\\localcache\\local-packages\\python312\\site-packages (from requests>=2.19.0->pandas-datareader) (3.7)\n",
      "Requirement already satisfied: urllib3<3,>=1.21.1 in c:\\users\\trkha\\appdata\\local\\packages\\pythonsoftwarefoundation.python.3.12_qbz5n2kfra8p0\\localcache\\local-packages\\python312\\site-packages (from requests>=2.19.0->pandas-datareader) (2.2.1)\n",
      "Requirement already satisfied: certifi>=2017.4.17 in c:\\users\\trkha\\appdata\\local\\packages\\pythonsoftwarefoundation.python.3.12_qbz5n2kfra8p0\\localcache\\local-packages\\python312\\site-packages (from requests>=2.19.0->pandas-datareader) (2024.2.2)\n",
      "Requirement already satisfied: six>=1.5 in c:\\users\\trkha\\appdata\\local\\packages\\pythonsoftwarefoundation.python.3.12_qbz5n2kfra8p0\\localcache\\local-packages\\python312\\site-packages (from python-dateutil>=2.8.2->pandas>=0.23->pandas-datareader) (1.16.0)\n",
      "Downloading pandas_datareader-0.10.0-py3-none-any.whl (109 kB)\n",
      "   ---------------------------------------- 0.0/109.5 kB ? eta -:--:--\n",
      "   -------------- ------------------------ 41.0/109.5 kB 991.0 kB/s eta 0:00:01\n",
      "   --------------------------------- ------ 92.2/109.5 kB 1.1 MB/s eta 0:00:01\n",
      "   -------------------------------------- 109.5/109.5 kB 910.3 kB/s eta 0:00:00\n",
      "Downloading lxml-5.2.2-cp312-cp312-win_amd64.whl (3.8 MB)\n",
      "   ---------------------------------------- 0.0/3.8 MB ? eta -:--:--\n",
      "   - -------------------------------------- 0.1/3.8 MB 2.4 MB/s eta 0:00:02\n",
      "   - -------------------------------------- 0.2/3.8 MB 2.6 MB/s eta 0:00:02\n",
      "   --- ------------------------------------ 0.3/3.8 MB 2.4 MB/s eta 0:00:02\n",
      "   ---- ----------------------------------- 0.4/3.8 MB 2.2 MB/s eta 0:00:02\n",
      "   ---- ----------------------------------- 0.5/3.8 MB 2.2 MB/s eta 0:00:02\n",
      "   ----- ---------------------------------- 0.5/3.8 MB 2.0 MB/s eta 0:00:02\n",
      "   ----- ---------------------------------- 0.6/3.8 MB 1.8 MB/s eta 0:00:02\n",
      "   ------ --------------------------------- 0.6/3.8 MB 1.8 MB/s eta 0:00:02\n",
      "   ------ --------------------------------- 0.6/3.8 MB 1.6 MB/s eta 0:00:02\n",
      "   ------ --------------------------------- 0.6/3.8 MB 1.6 MB/s eta 0:00:02\n",
      "   ------- -------------------------------- 0.7/3.8 MB 1.4 MB/s eta 0:00:03\n",
      "   ------- -------------------------------- 0.7/3.8 MB 1.4 MB/s eta 0:00:03\n",
      "   ------- -------------------------------- 0.7/3.8 MB 1.3 MB/s eta 0:00:03\n",
      "   -------- ------------------------------- 0.8/3.8 MB 1.3 MB/s eta 0:00:03\n",
      "   -------- ------------------------------- 0.8/3.8 MB 1.2 MB/s eta 0:00:03\n",
      "   -------- ------------------------------- 0.8/3.8 MB 1.2 MB/s eta 0:00:03\n",
      "   -------- ------------------------------- 0.8/3.8 MB 1.1 MB/s eta 0:00:03\n",
      "   --------- ------------------------------ 0.9/3.8 MB 1.1 MB/s eta 0:00:03\n",
      "   --------- ------------------------------ 0.9/3.8 MB 1.1 MB/s eta 0:00:03\n",
      "   --------- ------------------------------ 1.0/3.8 MB 1.0 MB/s eta 0:00:03\n",
      "   ---------- ----------------------------- 1.0/3.8 MB 1.0 MB/s eta 0:00:03\n",
      "   ---------- ----------------------------- 1.0/3.8 MB 1.0 MB/s eta 0:00:03\n",
      "   ----------- ---------------------------- 1.1/3.8 MB 1.0 MB/s eta 0:00:03\n",
      "   ----------- ---------------------------- 1.1/3.8 MB 1.0 MB/s eta 0:00:03\n",
      "   ------------ --------------------------- 1.2/3.8 MB 1.0 MB/s eta 0:00:03\n",
      "   ------------ --------------------------- 1.2/3.8 MB 1.0 MB/s eta 0:00:03\n",
      "   ------------- -------------------------- 1.3/3.8 MB 1.0 MB/s eta 0:00:03\n",
      "   -------------- ------------------------- 1.4/3.8 MB 1.0 MB/s eta 0:00:03\n",
      "   -------------- ------------------------- 1.4/3.8 MB 1.0 MB/s eta 0:00:03\n",
      "   --------------- ------------------------ 1.5/3.8 MB 1.0 MB/s eta 0:00:03\n",
      "   --------------- ------------------------ 1.5/3.8 MB 1.0 MB/s eta 0:00:03\n",
      "   --------------- ------------------------ 1.5/3.8 MB 1.0 MB/s eta 0:00:03\n",
      "   ---------------- ----------------------- 1.6/3.8 MB 1.0 MB/s eta 0:00:03\n",
      "   ---------------- ----------------------- 1.6/3.8 MB 1.0 MB/s eta 0:00:03\n",
      "   ---------------- ----------------------- 1.6/3.8 MB 992.2 kB/s eta 0:00:03\n",
      "   ----------------- ---------------------- 1.6/3.8 MB 983.2 kB/s eta 0:00:03\n",
      "   ----------------- ---------------------- 1.7/3.8 MB 976.9 kB/s eta 0:00:03\n",
      "   ------------------ --------------------- 1.7/3.8 MB 968.3 kB/s eta 0:00:03\n",
      "   ------------------ --------------------- 1.8/3.8 MB 965.8 kB/s eta 0:00:03\n",
      "   ------------------ --------------------- 1.8/3.8 MB 966.2 kB/s eta 0:00:03\n",
      "   ------------------- -------------------- 1.8/3.8 MB 961.7 kB/s eta 0:00:03\n",
      "   ------------------- -------------------- 1.9/3.8 MB 959.5 kB/s eta 0:00:03\n",
      "   -------------------- ------------------- 1.9/3.8 MB 964.7 kB/s eta 0:00:02\n",
      "   -------------------- ------------------- 2.0/3.8 MB 960.5 kB/s eta 0:00:02\n",
      "   --------------------- ------------------ 2.0/3.8 MB 968.3 kB/s eta 0:00:02\n",
      "   --------------------- ------------------ 2.1/3.8 MB 975.7 kB/s eta 0:00:02\n",
      "   ---------------------- ----------------- 2.2/3.8 MB 978.1 kB/s eta 0:00:02\n",
      "   ----------------------- ---------------- 2.2/3.8 MB 987.5 kB/s eta 0:00:02\n",
      "   ----------------------- ---------------- 2.3/3.8 MB 989.7 kB/s eta 0:00:02\n",
      "   ------------------------ --------------- 2.3/3.8 MB 994.1 kB/s eta 0:00:02\n",
      "   ------------------------ --------------- 2.4/3.8 MB 998.0 kB/s eta 0:00:02\n",
      "   ------------------------- -------------- 2.4/3.8 MB 1.0 MB/s eta 0:00:02\n",
      "   ------------------------- -------------- 2.5/3.8 MB 1.0 MB/s eta 0:00:02\n",
      "   -------------------------- ------------- 2.5/3.8 MB 1.0 MB/s eta 0:00:02\n",
      "   --------------------------- ------------ 2.6/3.8 MB 1.0 MB/s eta 0:00:02\n",
      "   --------------------------- ------------ 2.7/3.8 MB 1.0 MB/s eta 0:00:02\n",
      "   ---------------------------- ----------- 2.7/3.8 MB 1.0 MB/s eta 0:00:02\n",
      "   ---------------------------- ----------- 2.7/3.8 MB 1.0 MB/s eta 0:00:02\n",
      "   ---------------------------- ----------- 2.8/3.8 MB 1.0 MB/s eta 0:00:02\n",
      "   ----------------------------- ---------- 2.8/3.8 MB 1.0 MB/s eta 0:00:02\n",
      "   ----------------------------- ---------- 2.9/3.8 MB 1.0 MB/s eta 0:00:01\n",
      "   ------------------------------ --------- 2.9/3.8 MB 998.9 kB/s eta 0:00:01\n",
      "   ------------------------------ --------- 2.9/3.8 MB 996.8 kB/s eta 0:00:01\n",
      "   ------------------------------- -------- 3.0/3.8 MB 994.8 kB/s eta 0:00:01\n",
      "   ------------------------------- -------- 3.0/3.8 MB 993.3 kB/s eta 0:00:01\n",
      "   ------------------------------- -------- 3.0/3.8 MB 994.8 kB/s eta 0:00:01\n",
      "   -------------------------------- ------- 3.1/3.8 MB 984.5 kB/s eta 0:00:01\n",
      "   -------------------------------- ------- 3.1/3.8 MB 979.9 kB/s eta 0:00:01\n",
      "   -------------------------------- ------- 3.1/3.8 MB 982.9 kB/s eta 0:00:01\n",
      "   --------------------------------- ------ 3.2/3.8 MB 978.1 kB/s eta 0:00:01\n",
      "   --------------------------------- ------ 3.2/3.8 MB 978.2 kB/s eta 0:00:01\n",
      "   ---------------------------------- ----- 3.3/3.8 MB 975.4 kB/s eta 0:00:01\n",
      "   ---------------------------------- ----- 3.3/3.8 MB 970.9 kB/s eta 0:00:01\n",
      "   ---------------------------------- ----- 3.3/3.8 MB 968.0 kB/s eta 0:00:01\n",
      "   ----------------------------------- ---- 3.4/3.8 MB 969.6 kB/s eta 0:00:01\n",
      "   ------------------------------------ --- 3.4/3.8 MB 967.1 kB/s eta 0:00:01\n",
      "   ------------------------------------ --- 3.4/3.8 MB 967.1 kB/s eta 0:00:01\n",
      "   ------------------------------------ --- 3.5/3.8 MB 967.3 kB/s eta 0:00:01\n",
      "   ------------------------------------- -- 3.5/3.8 MB 963.5 kB/s eta 0:00:01\n",
      "   ------------------------------------- -- 3.6/3.8 MB 958.2 kB/s eta 0:00:01\n",
      "   ------------------------------------- -- 3.6/3.8 MB 962.3 kB/s eta 0:00:01\n",
      "   -------------------------------------- - 3.6/3.8 MB 957.4 kB/s eta 0:00:01\n",
      "   -------------------------------------- - 3.7/3.8 MB 955.0 kB/s eta 0:00:01\n",
      "   ---------------------------------------  3.7/3.8 MB 954.3 kB/s eta 0:00:01\n",
      "   ---------------------------------------  3.8/3.8 MB 955.9 kB/s eta 0:00:01\n",
      "   ---------------------------------------- 3.8/3.8 MB 951.9 kB/s eta 0:00:00\n",
      "Installing collected packages: lxml, pandas-datareader\n",
      "Successfully installed lxml-5.2.2 pandas-datareader-0.10.0\n",
      "Note: you may need to restart the kernel to use updated packages.\n"
     ]
    }
   ],
   "source": [
    "pip install pandas-datareader"
   ]
  },
  {
   "cell_type": "code",
   "execution_count": 32,
   "metadata": {},
   "outputs": [],
   "source": [
    "# pip install pandas yfinance\n",
    "# pip install pandas-datareader"
   ]
  },
  {
   "cell_type": "code",
   "execution_count": 2,
   "metadata": {
    "pycharm": {
     "name": "#%%\n"
    }
   },
   "outputs": [],
   "source": [
    "import pandas as pd\n",
    "import matplotlib.pyplot as plt \n",
    "import numpy as np\n",
    "import pandas_datareader.data as web\n",
    "from datetime import datetime"
   ]
  },
  {
   "cell_type": "markdown",
   "metadata": {
    "pycharm": {
     "name": "#%% md\n"
    }
   },
   "source": [
    "### Step 2. Create your time range (start and end variables). The start date should be 01/01/2015 and the end should today (whatever your today is)."
   ]
  },
  {
   "cell_type": "code",
   "execution_count": 3,
   "metadata": {
    "pycharm": {
     "name": "#%%\n"
    }
   },
   "outputs": [],
   "source": [
    "start_date = '2015/01/01'\n",
    "end_date = datetime.today().strftime('%Y/%m/%d')"
   ]
  },
  {
   "cell_type": "markdown",
   "metadata": {
    "pycharm": {
     "name": "#%% md\n"
    }
   },
   "source": [
    "### Step 3. Get an API key for one of the APIs that are supported by Pandas Datareader, preferably for AlphaVantage.\n",
    "\n",
    "If you do not have an API key for any of the supported APIs, it is easiest to get one for [AlphaVantage](https://www.alphavantage.co/support/#api-key). (Note that the API key is shown directly after the signup. You do *not* receive it via e-mail.)\n",
    "\n",
    "(For a full list of the APIs that are supported by Pandas Datareader, [see here](https://pydata.github.io/pandas-datareader/readers/index.html). As the APIs are provided by third parties, this list may change.)"
   ]
  },
  {
   "cell_type": "markdown",
   "metadata": {
    "pycharm": {
     "name": "#%% md\n"
    }
   },
   "source": [
    "### Step 4. Use Pandas Datarader to read the daily time series for the Apple stock (ticker symbol AAPL) between 01/01/2015 and today, assign it to df_apple and print it."
   ]
  },
  {
   "cell_type": "code",
   "execution_count": null,
   "metadata": {
    "pycharm": {
     "name": "#%%\n"
    }
   },
   "outputs": [],
   "source": []
  },
  {
   "cell_type": "markdown",
   "metadata": {
    "pycharm": {
     "name": "#%% md\n"
    }
   },
   "source": [
    "### Step 5. Add a new column \"stock\" to the dataframe and add the ticker symbol"
   ]
  },
  {
   "cell_type": "code",
   "execution_count": null,
   "metadata": {
    "pycharm": {
     "name": "#%%\n"
    }
   },
   "outputs": [],
   "source": []
  },
  {
   "cell_type": "markdown",
   "metadata": {
    "pycharm": {
     "name": "#%% md\n"
    }
   },
   "source": [
    "### Step 6. Repeat the two previous steps for a few other stocks, always creating a new dataframe: Tesla, IBM and Microsoft. (Ticker symbols TSLA, IBM and MSFT.)"
   ]
  },
  {
   "cell_type": "code",
   "execution_count": null,
   "metadata": {
    "pycharm": {
     "name": "#%%\n"
    }
   },
   "outputs": [],
   "source": []
  },
  {
   "cell_type": "markdown",
   "metadata": {
    "pycharm": {
     "name": "#%% md\n"
    }
   },
   "source": [
    "### Step 7. Combine the four separate dataFrames into one combined dataFrame df that holds the information for all four stocks"
   ]
  },
  {
   "cell_type": "code",
   "execution_count": null,
   "metadata": {
    "pycharm": {
     "name": "#%%\n"
    }
   },
   "outputs": [],
   "source": []
  },
  {
   "cell_type": "markdown",
   "metadata": {
    "pycharm": {
     "name": "#%% md\n"
    }
   },
   "source": [
    "### Step 8. Shift the stock column into the index (making it a multi-level index consisting of the ticker symbol and the date)."
   ]
  },
  {
   "cell_type": "code",
   "execution_count": null,
   "metadata": {
    "pycharm": {
     "name": "#%%\n"
    }
   },
   "outputs": [],
   "source": []
  },
  {
   "cell_type": "markdown",
   "metadata": {
    "pycharm": {
     "name": "#%% md\n"
    }
   },
   "source": [
    "### Step 7. Create a dataFrame called vol, with the volume values."
   ]
  },
  {
   "cell_type": "code",
   "execution_count": null,
   "metadata": {
    "pycharm": {
     "name": "#%%\n"
    }
   },
   "outputs": [],
   "source": []
  },
  {
   "cell_type": "markdown",
   "metadata": {
    "pycharm": {
     "name": "#%% md\n"
    }
   },
   "source": [
    "### Step 8. Aggregate the data of volume to weekly.\n",
    "Hint: Be careful to not sum data from the same week of 2015 and other years."
   ]
  },
  {
   "cell_type": "code",
   "execution_count": null,
   "metadata": {
    "pycharm": {
     "name": "#%%\n"
    }
   },
   "outputs": [],
   "source": []
  },
  {
   "cell_type": "markdown",
   "metadata": {
    "pycharm": {
     "name": "#%% md\n"
    }
   },
   "source": [
    "### Step 9. Find all the volume traded in the year of 2015"
   ]
  },
  {
   "cell_type": "code",
   "execution_count": null,
   "metadata": {
    "pycharm": {
     "name": "#%%\n"
    }
   },
   "outputs": [],
   "source": []
  }
 ],
 "metadata": {
  "kernelspec": {
   "display_name": "Python 3",
   "language": "python",
   "name": "python3"
  },
  "language_info": {
   "codemirror_mode": {
    "name": "ipython",
    "version": 3
   },
   "file_extension": ".py",
   "mimetype": "text/x-python",
   "name": "python",
   "nbconvert_exporter": "python",
   "pygments_lexer": "ipython3",
   "version": "3.12.4"
  }
 },
 "nbformat": 4,
 "nbformat_minor": 1
}
